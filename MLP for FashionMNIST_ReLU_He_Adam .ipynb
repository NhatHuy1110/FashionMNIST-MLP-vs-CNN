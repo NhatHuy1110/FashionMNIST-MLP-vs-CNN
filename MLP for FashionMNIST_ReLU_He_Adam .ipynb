{
 "cells": [
  {
   "cell_type": "code",
   "execution_count": 1,
   "metadata": {
    "executionInfo": {
     "elapsed": 3,
     "status": "ok",
     "timestamp": 1743221888138,
     "user": {
      "displayName": "Huy Nguyen",
      "userId": "01774398028565786625"
     },
     "user_tz": -420
    },
    "id": "mfHIchjNFR1P"
   },
   "outputs": [],
   "source": [
    "import torch\n",
    "import torch.nn as nn\n",
    "import torch.optim as optim\n",
    "import torchvision\n",
    "import torchvision.transforms as transforms\n",
    "import torch.nn.init as init\n",
    "\n",
    "device = torch.device(\"cuda:0\" if torch.cuda.is_available() else \"cpu\")"
   ]
  },
  {
   "cell_type": "markdown",
   "metadata": {
    "id": "z6Df1UbAHykG"
   },
   "source": [
    "Data"
   ]
  },
  {
   "cell_type": "code",
   "execution_count": 2,
   "metadata": {
    "colab": {
     "base_uri": "https://localhost:8080/"
    },
    "executionInfo": {
     "elapsed": 4814,
     "status": "ok",
     "timestamp": 1743222224526,
     "user": {
      "displayName": "Huy Nguyen",
      "userId": "01774398028565786625"
     },
     "user_tz": -420
    },
    "id": "gaz5io2OHxLs",
    "outputId": "337cd8b1-0fc1-469b-f0ef-5bee1dc5fffa"
   },
   "outputs": [
    {
     "name": "stderr",
     "output_type": "stream",
     "text": [
      "100%|██████████| 26.4M/26.4M [00:01<00:00, 17.4MB/s]\n",
      "100%|██████████| 29.5k/29.5k [00:00<00:00, 301kB/s]\n",
      "100%|██████████| 4.42M/4.42M [00:00<00:00, 5.48MB/s]\n",
      "100%|██████████| 5.15k/5.15k [00:00<00:00, 12.0MB/s]\n",
      "/usr/local/lib/python3.11/dist-packages/torch/utils/data/dataloader.py:624: UserWarning: This DataLoader will create 10 worker processes in total. Our suggested max number of worker in current system is 2, which is smaller than what this DataLoader is going to create. Please be aware that excessive worker creation might get DataLoader running slow or even freeze, lower the worker number to avoid potential slowness/freeze if necessary.\n",
      "  warnings.warn(\n"
     ]
    }
   ],
   "source": [
    "# Load CFashionMNIST dataset\n",
    "transform = transforms.Compose([\n",
    "    transforms.ToTensor(),\n",
    "    transforms.Normalize((0.5,), (0.5,))])\n",
    "\n",
    "trainset = torchvision.datasets.FashionMNIST(root='data',\n",
    "                                             train=True,\n",
    "                                             download=True,\n",
    "                                             transform=transform)\n",
    "trainloader = torch.utils.data.DataLoader(trainset,\n",
    "                                          batch_size=1024,\n",
    "                                          num_workers=10,\n",
    "                                          shuffle=True,\n",
    "                                          drop_last=True)\n",
    "\n",
    "testset = torchvision.datasets.FashionMNIST(root='data',\n",
    "                                            train=False,\n",
    "                                            download= True,\n",
    "                                            transform = transform)\n",
    "testloader = torch.utils.data.DataLoader(testset,\n",
    "                                         batch_size=1024,\n",
    "                                         num_workers=10,\n",
    "                                         shuffle=False)"
   ]
  },
  {
   "cell_type": "code",
   "execution_count": null,
   "metadata": {
    "colab": {
     "base_uri": "https://localhost:8080/",
     "height": 187
    },
    "executionInfo": {
     "elapsed": 5017,
     "status": "ok",
     "timestamp": 1743222405775,
     "user": {
      "displayName": "Huy Nguyen",
      "userId": "01774398028565786625"
     },
     "user_tz": -420
    },
    "id": "7Qlq6J-5JCJX",
    "outputId": "2f59ddd7-5242-4e42-972f-6ae29db917cb"
   },
   "outputs": [
    {
     "name": "stderr",
     "output_type": "stream",
     "text": [
      "/usr/local/lib/python3.11/dist-packages/torch/utils/data/dataloader.py:624: UserWarning: This DataLoader will create 10 worker processes in total. Our suggested max number of worker in current system is 2, which is smaller than what this DataLoader is going to create. Please be aware that excessive worker creation might get DataLoader running slow or even freeze, lower the worker number to avoid potential slowness/freeze if necessary.\n",
      "  warnings.warn(\n"
     ]
    },
    {
     "data": {
      "image/png": "[encoded data removed]",
      "text/plain": [
       "<Figure size 640x480 with 1 Axes>"
      ]
     },
     "metadata": {},
     "output_type": "display_data"
    }
   ],
   "source": [
    "import matplotlib.pyplot as plt\n",
    "import numpy as np\n",
    "\n",
    "def imshow(img):\n",
    "  img = img*0.5 + 0.5                                 # Decode image to give value [0,1]\n",
    "  np_img = img.numpy()                                # tensor -> numpy array\n",
    "  plt.imshow(np.transpose(np_img, (1, 2, 0)))         # default: (C-0, H-1, W-2) -> change to (H-1, W-2, C-0)\n",
    "  plt.show()\n",
    "\n",
    "for i, (images, labels) in enumerate(trainloader, 0):\n",
    "  imshow(torchvision.utils.make_grid(images[:8]))     # show 8 pics from a batch \n",
    "  break"
   ]
  },
  {
   "cell_type": "markdown",
   "metadata": {
    "id": "DEi2hU0rJzuK"
   },
   "source": [
    "Model"
   ]
  },
  {
   "cell_type": "code",
   "execution_count": null,
   "metadata": {
    "colab": {
     "base_uri": "https://localhost:8080/"
    },
    "executionInfo": {
     "elapsed": 309,
     "status": "ok",
     "timestamp": 1743222572998,
     "user": {
      "displayName": "Huy Nguyen",
      "userId": "01774398028565786625"
     },
     "user_tz": -420
    },
    "id": "1HwOIhheJ0pP",
    "outputId": "f8417f0c-edbf-445f-8cc8-d9a3827a7d3f"
   },
   "outputs": [
    {
     "name": "stdout",
     "output_type": "stream",
     "text": [
      "Sequential(\n",
      "  (0): Flatten(start_dim=1, end_dim=-1)\n",
      "  (1): Linear(in_features=784, out_features=256, bias=True)\n",
      "  (2): ReLU()\n",
      "  (3): Linear(in_features=256, out_features=10, bias=True)\n",
      ")\n"
     ]
    }
   ],
   "source": [
    "model = nn.Sequential(                                      # A container to stack layers in order\n",
    "    nn.Flatten(),           \n",
    "    nn.Linear(784, 256),\n",
    "    nn.ReLU(),\n",
    "    nn.Linear(256, 10)\n",
    ")\n",
    "\n",
    "for layer in model:\n",
    "  if isinstance(layer, nn.Linear):                          # layer = Linear or not\n",
    "    init.kaiming_uniform_(layer.weight, nonlinearity='relu')# Use He (or Kaiming initialization) method\n",
    "    if layer.bias is not None:\n",
    "      layer.bias.data.fill_(0)                              # Set bias (if any) to 0\n",
    "\n",
    "model = model.to(device)\n",
    "print(model)"
   ]
  },
  {
   "cell_type": "markdown",
   "metadata": {
    "id": "Xcvo1Y3UKa2d"
   },
   "source": [
    "Loss, Optimizer, and Evaluation Function"
   ]
  },
  {
   "cell_type": "code",
   "execution_count": null,
   "metadata": {
    "executionInfo": {
     "elapsed": 5,
     "status": "ok",
     "timestamp": 1743222658609,
     "user": {
      "displayName": "Huy Nguyen",
      "userId": "01774398028565786625"
     },
     "user_tz": -420
    },
    "id": "vjTqPOsxKfFl"
   },
   "outputs": [],
   "source": [
    "criterion = nn.CrossEntropyLoss()                           # Loss Function\n",
    "optimizer = optim.Adam(model.parameters(), lr=0.0001)       # Adam - Optimization Algorithm"
   ]
  },
  {
   "cell_type": "code",
   "execution_count": null,
   "metadata": {
    "executionInfo": {
     "elapsed": 8,
     "status": "ok",
     "timestamp": 1743222904894,
     "user": {
      "displayName": "Huy Nguyen",
      "userId": "01774398028565786625"
     },
     "user_tz": -420
    },
    "id": "dgEtpkuIKtS8"
   },
   "outputs": [],
   "source": [
    "def evaluate(model, testloader, criterion):\n",
    "  model.eval()                                              # Switch model to evaluation mode -> turn off dropout and batch normalization\n",
    "  test_loss = 0.0\n",
    "  running_correct = 0\n",
    "  total = 0\n",
    "  with torch.no_grad():                                     # Turn off gradient calculation during evaluation\n",
    "    for images, labels in testloader:\n",
    "      images, labels = images.to(device), labels.to(device)\n",
    "\n",
    "      outputs = model(images)\n",
    "      loss = criterion(outputs, labels)\n",
    "      test_loss += loss.item()\n",
    "\n",
    "      _, predicted = torch.max(outputs.data, 1)             # Get highest probability class from outputs.data\n",
    "      total += labels.size(0)                               # Total samples\n",
    "      running_correct += (predicted == labels).sum().item() # Cout the number of correct predictions\n",
    "\n",
    "  accuracy = 100 * running_correct / total                  # Calculate accuracy\n",
    "  test_loss = test_loss / len(testloader)                   # Calculate Avg_loss\n",
    "  return test_loss, accuracy"
   ]
  },
  {
   "cell_type": "markdown",
   "metadata": {
    "id": "OxmmV-3YLqoV"
   },
   "source": [
    "Train"
   ]
  },
  {
   "cell_type": "code",
   "execution_count": 7,
   "metadata": {
    "executionInfo": {
     "elapsed": 2,
     "status": "ok",
     "timestamp": 1743222960997,
     "user": {
      "displayName": "Huy Nguyen",
      "userId": "01774398028565786625"
     },
     "user_tz": -420
    },
    "id": "oEjmMiPgLpcA"
   },
   "outputs": [],
   "source": [
    "train_losses = []\n",
    "train_accuracies = []\n",
    "test_losses = []\n",
    "test_accuracies = []\n",
    "max_epoch = 250"
   ]
  },
  {
   "cell_type": "code",
   "execution_count": null,
   "metadata": {
    "colab": {
     "base_uri": "https://localhost:8080/"
    },
    "executionInfo": {
     "elapsed": 3268554,
     "status": "ok",
     "timestamp": 1743226621544,
     "user": {
      "displayName": "Huy Nguyen",
      "userId": "01774398028565786625"
     },
     "user_tz": -420
    },
    "id": "qMU9GXdxL3Iq",
    "outputId": "fd69a140-b397-4ed9-b2da-10977d270827"
   },
   "outputs": [
    {
     "name": "stderr",
     "output_type": "stream",
     "text": [
      "/usr/local/lib/python3.11/dist-packages/torch/utils/data/dataloader.py:624: UserWarning: This DataLoader will create 10 worker processes in total. Our suggested max number of worker in current system is 2, which is smaller than what this DataLoader is going to create. Please be aware that excessive worker creation might get DataLoader running slow or even freeze, lower the worker number to avoid potential slowness/freeze if necessary.\n",
      "  warnings.warn(\n"
     ]
    },
    {
     "name": "stdout",
     "output_type": "stream",
     "text": [
      "Epoch [1/250], Loss: 1.3229, Accuracy: 56.09%, Test Loss: 0.8184, Test Accuracy: 71.58%\n",
      "Epoch [2/250], Loss: 0.7064, Accuracy: 75.68%, Test Loss: 0.6494, Test Accuracy: 77.18%\n",
      "Epoch [3/250], Loss: 0.5943, Accuracy: 79.29%, Test Loss: 0.5812, Test Accuracy: 79.58%\n",
      "Epoch [4/250], Loss: 0.5380, Accuracy: 81.33%, Test Loss: 0.5415, Test Accuracy: 80.80%\n",
      "Epoch [5/250], Loss: 0.5023, Accuracy: 82.62%, Test Loss: 0.5151, Test Accuracy: 81.79%\n",
      "Epoch [6/250], Loss: 0.4784, Accuracy: 83.40%, Test Loss: 0.4962, Test Accuracy: 82.69%\n",
      "Epoch [7/250], Loss: 0.4587, Accuracy: 84.01%, Test Loss: 0.4823, Test Accuracy: 83.28%\n",
      "Epoch [8/250], Loss: 0.4428, Accuracy: 84.56%, Test Loss: 0.4698, Test Accuracy: 83.54%\n",
      "Epoch [9/250], Loss: 0.4304, Accuracy: 85.03%, Test Loss: 0.4589, Test Accuracy: 83.77%\n",
      "Epoch [10/250], Loss: 0.4194, Accuracy: 85.43%, Test Loss: 0.4510, Test Accuracy: 83.90%\n",
      "Epoch [11/250], Loss: 0.4098, Accuracy: 85.73%, Test Loss: 0.4432, Test Accuracy: 84.31%\n",
      "Epoch [12/250], Loss: 0.4013, Accuracy: 86.03%, Test Loss: 0.4354, Test Accuracy: 84.48%\n",
      "Epoch [13/250], Loss: 0.3937, Accuracy: 86.29%, Test Loss: 0.4293, Test Accuracy: 84.68%\n",
      "Epoch [14/250], Loss: 0.3858, Accuracy: 86.50%, Test Loss: 0.4252, Test Accuracy: 84.63%\n",
      "Epoch [15/250], Loss: 0.3802, Accuracy: 86.77%, Test Loss: 0.4192, Test Accuracy: 84.97%\n",
      "Epoch [16/250], Loss: 0.3748, Accuracy: 86.88%, Test Loss: 0.4156, Test Accuracy: 84.85%\n",
      "Epoch [17/250], Loss: 0.3688, Accuracy: 87.08%, Test Loss: 0.4094, Test Accuracy: 85.46%\n",
      "Epoch [18/250], Loss: 0.3641, Accuracy: 87.33%, Test Loss: 0.4075, Test Accuracy: 85.36%\n",
      "Epoch [19/250], Loss: 0.3584, Accuracy: 87.50%, Test Loss: 0.4032, Test Accuracy: 85.70%\n",
      "Epoch [20/250], Loss: 0.3541, Accuracy: 87.59%, Test Loss: 0.4000, Test Accuracy: 85.66%\n",
      "Epoch [21/250], Loss: 0.3506, Accuracy: 87.68%, Test Loss: 0.3961, Test Accuracy: 86.01%\n",
      "Epoch [22/250], Loss: 0.3459, Accuracy: 87.87%, Test Loss: 0.3933, Test Accuracy: 85.94%\n",
      "Epoch [23/250], Loss: 0.3419, Accuracy: 88.00%, Test Loss: 0.3903, Test Accuracy: 85.84%\n",
      "Epoch [24/250], Loss: 0.3386, Accuracy: 88.18%, Test Loss: 0.3883, Test Accuracy: 86.32%\n",
      "Epoch [25/250], Loss: 0.3357, Accuracy: 88.24%, Test Loss: 0.3852, Test Accuracy: 86.17%\n",
      "Epoch [26/250], Loss: 0.3318, Accuracy: 88.30%, Test Loss: 0.3832, Test Accuracy: 86.20%\n",
      "Epoch [27/250], Loss: 0.3281, Accuracy: 88.46%, Test Loss: 0.3814, Test Accuracy: 86.44%\n",
      "Epoch [28/250], Loss: 0.3250, Accuracy: 88.53%, Test Loss: 0.3783, Test Accuracy: 86.56%\n",
      "Epoch [29/250], Loss: 0.3227, Accuracy: 88.68%, Test Loss: 0.3767, Test Accuracy: 86.43%\n",
      "Epoch [30/250], Loss: 0.3198, Accuracy: 88.78%, Test Loss: 0.3736, Test Accuracy: 86.73%\n",
      "Epoch [31/250], Loss: 0.3165, Accuracy: 88.88%, Test Loss: 0.3721, Test Accuracy: 86.72%\n",
      "Epoch [32/250], Loss: 0.3138, Accuracy: 88.97%, Test Loss: 0.3711, Test Accuracy: 86.83%\n",
      "Epoch [33/250], Loss: 0.3113, Accuracy: 89.01%, Test Loss: 0.3688, Test Accuracy: 87.01%\n",
      "Epoch [34/250], Loss: 0.3084, Accuracy: 89.13%, Test Loss: 0.3670, Test Accuracy: 86.86%\n",
      "Epoch [35/250], Loss: 0.3057, Accuracy: 89.21%, Test Loss: 0.3658, Test Accuracy: 87.13%\n",
      "Epoch [36/250], Loss: 0.3039, Accuracy: 89.34%, Test Loss: 0.3642, Test Accuracy: 87.00%\n",
      "Epoch [37/250], Loss: 0.3011, Accuracy: 89.39%, Test Loss: 0.3639, Test Accuracy: 86.85%\n",
      "Epoch [38/250], Loss: 0.2991, Accuracy: 89.46%, Test Loss: 0.3616, Test Accuracy: 87.21%\n",
      "Epoch [39/250], Loss: 0.2964, Accuracy: 89.58%, Test Loss: 0.3590, Test Accuracy: 87.13%\n",
      "Epoch [40/250], Loss: 0.2943, Accuracy: 89.60%, Test Loss: 0.3572, Test Accuracy: 87.29%\n",
      "Epoch [41/250], Loss: 0.2913, Accuracy: 89.73%, Test Loss: 0.3582, Test Accuracy: 87.19%\n",
      "Epoch [42/250], Loss: 0.2899, Accuracy: 89.71%, Test Loss: 0.3558, Test Accuracy: 87.24%\n",
      "Epoch [43/250], Loss: 0.2869, Accuracy: 89.90%, Test Loss: 0.3576, Test Accuracy: 87.37%\n",
      "Epoch [44/250], Loss: 0.2866, Accuracy: 89.88%, Test Loss: 0.3525, Test Accuracy: 87.45%\n",
      "Epoch [45/250], Loss: 0.2836, Accuracy: 89.94%, Test Loss: 0.3531, Test Accuracy: 87.48%\n",
      "Epoch [46/250], Loss: 0.2819, Accuracy: 90.06%, Test Loss: 0.3525, Test Accuracy: 87.41%\n",
      "Epoch [47/250], Loss: 0.2789, Accuracy: 90.14%, Test Loss: 0.3495, Test Accuracy: 87.60%\n",
      "Epoch [48/250], Loss: 0.2772, Accuracy: 90.29%, Test Loss: 0.3501, Test Accuracy: 87.59%\n",
      "Epoch [49/250], Loss: 0.2765, Accuracy: 90.31%, Test Loss: 0.3493, Test Accuracy: 87.66%\n",
      "Epoch [50/250], Loss: 0.2741, Accuracy: 90.43%, Test Loss: 0.3468, Test Accuracy: 87.80%\n",
      "Epoch [51/250], Loss: 0.2719, Accuracy: 90.43%, Test Loss: 0.3470, Test Accuracy: 87.76%\n",
      "Epoch [52/250], Loss: 0.2700, Accuracy: 90.54%, Test Loss: 0.3449, Test Accuracy: 87.51%\n",
      "Epoch [53/250], Loss: 0.2684, Accuracy: 90.58%, Test Loss: 0.3465, Test Accuracy: 87.56%\n",
      "Epoch [54/250], Loss: 0.2674, Accuracy: 90.64%, Test Loss: 0.3429, Test Accuracy: 87.77%\n",
      "Epoch [55/250], Loss: 0.2648, Accuracy: 90.67%, Test Loss: 0.3410, Test Accuracy: 87.93%\n",
      "Epoch [56/250], Loss: 0.2641, Accuracy: 90.72%, Test Loss: 0.3419, Test Accuracy: 87.72%\n",
      "Epoch [57/250], Loss: 0.2618, Accuracy: 90.81%, Test Loss: 0.3411, Test Accuracy: 87.93%\n",
      "Epoch [58/250], Loss: 0.2607, Accuracy: 90.86%, Test Loss: 0.3404, Test Accuracy: 87.89%\n",
      "Epoch [59/250], Loss: 0.2580, Accuracy: 90.93%, Test Loss: 0.3412, Test Accuracy: 87.80%\n",
      "Epoch [60/250], Loss: 0.2577, Accuracy: 90.99%, Test Loss: 0.3404, Test Accuracy: 87.92%\n",
      "Epoch [61/250], Loss: 0.2555, Accuracy: 91.11%, Test Loss: 0.3377, Test Accuracy: 87.97%\n",
      "Epoch [62/250], Loss: 0.2539, Accuracy: 91.06%, Test Loss: 0.3410, Test Accuracy: 87.85%\n",
      "Epoch [63/250], Loss: 0.2530, Accuracy: 91.14%, Test Loss: 0.3377, Test Accuracy: 88.08%\n",
      "Epoch [64/250], Loss: 0.2507, Accuracy: 91.26%, Test Loss: 0.3399, Test Accuracy: 87.82%\n",
      "Epoch [65/250], Loss: 0.2500, Accuracy: 91.23%, Test Loss: 0.3367, Test Accuracy: 87.86%\n",
      "Epoch [66/250], Loss: 0.2485, Accuracy: 91.29%, Test Loss: 0.3336, Test Accuracy: 88.10%\n",
      "Epoch [67/250], Loss: 0.2466, Accuracy: 91.41%, Test Loss: 0.3335, Test Accuracy: 87.96%\n",
      "Epoch [68/250], Loss: 0.2458, Accuracy: 91.42%, Test Loss: 0.3360, Test Accuracy: 88.02%\n",
      "Epoch [69/250], Loss: 0.2446, Accuracy: 91.38%, Test Loss: 0.3331, Test Accuracy: 88.02%\n",
      "Epoch [70/250], Loss: 0.2419, Accuracy: 91.61%, Test Loss: 0.3348, Test Accuracy: 87.96%\n",
      "Epoch [71/250], Loss: 0.2424, Accuracy: 91.56%, Test Loss: 0.3327, Test Accuracy: 87.99%\n",
      "Epoch [72/250], Loss: 0.2403, Accuracy: 91.61%, Test Loss: 0.3325, Test Accuracy: 87.97%\n",
      "Epoch [73/250], Loss: 0.2384, Accuracy: 91.72%, Test Loss: 0.3325, Test Accuracy: 88.08%\n",
      "Epoch [74/250], Loss: 0.2371, Accuracy: 91.77%, Test Loss: 0.3301, Test Accuracy: 88.11%\n",
      "Epoch [75/250], Loss: 0.2359, Accuracy: 91.80%, Test Loss: 0.3303, Test Accuracy: 88.30%\n",
      "Epoch [76/250], Loss: 0.2346, Accuracy: 91.84%, Test Loss: 0.3282, Test Accuracy: 88.12%\n",
      "Epoch [77/250], Loss: 0.2341, Accuracy: 91.85%, Test Loss: 0.3314, Test Accuracy: 88.00%\n",
      "Epoch [78/250], Loss: 0.2326, Accuracy: 91.98%, Test Loss: 0.3299, Test Accuracy: 88.11%\n",
      "Epoch [79/250], Loss: 0.2309, Accuracy: 91.97%, Test Loss: 0.3287, Test Accuracy: 88.22%\n",
      "Epoch [80/250], Loss: 0.2292, Accuracy: 92.11%, Test Loss: 0.3276, Test Accuracy: 88.16%\n",
      "Epoch [81/250], Loss: 0.2280, Accuracy: 92.10%, Test Loss: 0.3295, Test Accuracy: 88.09%\n",
      "Epoch [82/250], Loss: 0.2274, Accuracy: 92.16%, Test Loss: 0.3266, Test Accuracy: 88.19%\n",
      "Epoch [83/250], Loss: 0.2256, Accuracy: 92.20%, Test Loss: 0.3261, Test Accuracy: 88.29%\n",
      "Epoch [84/250], Loss: 0.2256, Accuracy: 92.24%, Test Loss: 0.3283, Test Accuracy: 88.20%\n",
      "Epoch [85/250], Loss: 0.2238, Accuracy: 92.35%, Test Loss: 0.3276, Test Accuracy: 88.11%\n",
      "Epoch [86/250], Loss: 0.2219, Accuracy: 92.36%, Test Loss: 0.3251, Test Accuracy: 88.27%\n",
      "Epoch [87/250], Loss: 0.2222, Accuracy: 92.28%, Test Loss: 0.3279, Test Accuracy: 88.14%\n",
      "Epoch [88/250], Loss: 0.2200, Accuracy: 92.42%, Test Loss: 0.3255, Test Accuracy: 88.24%\n",
      "Epoch [89/250], Loss: 0.2189, Accuracy: 92.44%, Test Loss: 0.3253, Test Accuracy: 88.28%\n",
      "Epoch [90/250], Loss: 0.2189, Accuracy: 92.43%, Test Loss: 0.3236, Test Accuracy: 88.46%\n",
      "Epoch [91/250], Loss: 0.2169, Accuracy: 92.52%, Test Loss: 0.3228, Test Accuracy: 88.27%\n",
      "Epoch [92/250], Loss: 0.2160, Accuracy: 92.54%, Test Loss: 0.3237, Test Accuracy: 88.37%\n",
      "Epoch [93/250], Loss: 0.2149, Accuracy: 92.61%, Test Loss: 0.3245, Test Accuracy: 88.18%\n",
      "Epoch [94/250], Loss: 0.2142, Accuracy: 92.62%, Test Loss: 0.3228, Test Accuracy: 88.52%\n",
      "Epoch [95/250], Loss: 0.2120, Accuracy: 92.69%, Test Loss: 0.3234, Test Accuracy: 88.53%\n",
      "Epoch [96/250], Loss: 0.2112, Accuracy: 92.75%, Test Loss: 0.3227, Test Accuracy: 88.29%\n",
      "Epoch [97/250], Loss: 0.2109, Accuracy: 92.76%, Test Loss: 0.3218, Test Accuracy: 88.38%\n",
      "Epoch [98/250], Loss: 0.2100, Accuracy: 92.77%, Test Loss: 0.3208, Test Accuracy: 88.49%\n",
      "Epoch [99/250], Loss: 0.2085, Accuracy: 92.79%, Test Loss: 0.3235, Test Accuracy: 88.40%\n",
      "Epoch [100/250], Loss: 0.2078, Accuracy: 92.87%, Test Loss: 0.3209, Test Accuracy: 88.46%\n",
      "Epoch [101/250], Loss: 0.2070, Accuracy: 92.90%, Test Loss: 0.3229, Test Accuracy: 88.57%\n",
      "Epoch [102/250], Loss: 0.2049, Accuracy: 93.01%, Test Loss: 0.3212, Test Accuracy: 88.43%\n",
      "Epoch [103/250], Loss: 0.2045, Accuracy: 92.97%, Test Loss: 0.3207, Test Accuracy: 88.39%\n",
      "Epoch [104/250], Loss: 0.2034, Accuracy: 93.00%, Test Loss: 0.3208, Test Accuracy: 88.49%\n",
      "Epoch [105/250], Loss: 0.2032, Accuracy: 93.04%, Test Loss: 0.3188, Test Accuracy: 88.65%\n",
      "Epoch [106/250], Loss: 0.2020, Accuracy: 93.12%, Test Loss: 0.3216, Test Accuracy: 88.41%\n",
      "Epoch [107/250], Loss: 0.2014, Accuracy: 93.08%, Test Loss: 0.3203, Test Accuracy: 88.58%\n",
      "Epoch [108/250], Loss: 0.1994, Accuracy: 93.23%, Test Loss: 0.3201, Test Accuracy: 88.41%\n",
      "Epoch [109/250], Loss: 0.1987, Accuracy: 93.20%, Test Loss: 0.3207, Test Accuracy: 88.63%\n",
      "Epoch [110/250], Loss: 0.1982, Accuracy: 93.24%, Test Loss: 0.3211, Test Accuracy: 88.42%\n",
      "Epoch [111/250], Loss: 0.1972, Accuracy: 93.27%, Test Loss: 0.3192, Test Accuracy: 88.68%\n",
      "Epoch [112/250], Loss: 0.1953, Accuracy: 93.38%, Test Loss: 0.3181, Test Accuracy: 88.55%\n",
      "Epoch [113/250], Loss: 0.1953, Accuracy: 93.32%, Test Loss: 0.3210, Test Accuracy: 88.41%\n",
      "Epoch [114/250], Loss: 0.1941, Accuracy: 93.43%, Test Loss: 0.3187, Test Accuracy: 88.62%\n",
      "Epoch [115/250], Loss: 0.1931, Accuracy: 93.44%, Test Loss: 0.3194, Test Accuracy: 88.79%\n",
      "Epoch [116/250], Loss: 0.1928, Accuracy: 93.42%, Test Loss: 0.3182, Test Accuracy: 88.66%\n",
      "Epoch [117/250], Loss: 0.1913, Accuracy: 93.47%, Test Loss: 0.3177, Test Accuracy: 88.88%\n",
      "Epoch [118/250], Loss: 0.1907, Accuracy: 93.49%, Test Loss: 0.3165, Test Accuracy: 88.71%\n",
      "Epoch [119/250], Loss: 0.1898, Accuracy: 93.54%, Test Loss: 0.3175, Test Accuracy: 88.76%\n",
      "Epoch [120/250], Loss: 0.1884, Accuracy: 93.60%, Test Loss: 0.3178, Test Accuracy: 88.62%\n",
      "Epoch [121/250], Loss: 0.1877, Accuracy: 93.69%, Test Loss: 0.3176, Test Accuracy: 88.78%\n",
      "Epoch [122/250], Loss: 0.1873, Accuracy: 93.60%, Test Loss: 0.3173, Test Accuracy: 88.61%\n",
      "Epoch [123/250], Loss: 0.1860, Accuracy: 93.74%, Test Loss: 0.3176, Test Accuracy: 88.88%\n",
      "Epoch [124/250], Loss: 0.1848, Accuracy: 93.78%, Test Loss: 0.3169, Test Accuracy: 88.66%\n",
      "Epoch [125/250], Loss: 0.1843, Accuracy: 93.77%, Test Loss: 0.3176, Test Accuracy: 88.63%\n",
      "Epoch [126/250], Loss: 0.1833, Accuracy: 93.81%, Test Loss: 0.3180, Test Accuracy: 88.78%\n",
      "Epoch [127/250], Loss: 0.1836, Accuracy: 93.80%, Test Loss: 0.3172, Test Accuracy: 88.66%\n",
      "Epoch [128/250], Loss: 0.1831, Accuracy: 93.83%, Test Loss: 0.3167, Test Accuracy: 88.66%\n",
      "Epoch [129/250], Loss: 0.1816, Accuracy: 93.86%, Test Loss: 0.3180, Test Accuracy: 88.79%\n",
      "Epoch [130/250], Loss: 0.1804, Accuracy: 93.89%, Test Loss: 0.3156, Test Accuracy: 88.82%\n",
      "Epoch [131/250], Loss: 0.1791, Accuracy: 93.95%, Test Loss: 0.3153, Test Accuracy: 88.77%\n",
      "Epoch [132/250], Loss: 0.1781, Accuracy: 94.07%, Test Loss: 0.3159, Test Accuracy: 88.74%\n",
      "Epoch [133/250], Loss: 0.1781, Accuracy: 94.00%, Test Loss: 0.3156, Test Accuracy: 89.01%\n",
      "Epoch [134/250], Loss: 0.1769, Accuracy: 94.09%, Test Loss: 0.3167, Test Accuracy: 88.96%\n",
      "Epoch [135/250], Loss: 0.1760, Accuracy: 94.13%, Test Loss: 0.3173, Test Accuracy: 88.87%\n",
      "Epoch [136/250], Loss: 0.1754, Accuracy: 94.11%, Test Loss: 0.3151, Test Accuracy: 88.94%\n",
      "Epoch [137/250], Loss: 0.1756, Accuracy: 94.10%, Test Loss: 0.3164, Test Accuracy: 88.85%\n",
      "Epoch [138/250], Loss: 0.1739, Accuracy: 94.20%, Test Loss: 0.3166, Test Accuracy: 88.99%\n",
      "Epoch [139/250], Loss: 0.1739, Accuracy: 94.19%, Test Loss: 0.3169, Test Accuracy: 88.90%\n",
      "Epoch [140/250], Loss: 0.1730, Accuracy: 94.18%, Test Loss: 0.3176, Test Accuracy: 88.85%\n",
      "Epoch [141/250], Loss: 0.1718, Accuracy: 94.24%, Test Loss: 0.3170, Test Accuracy: 88.89%\n",
      "Epoch [142/250], Loss: 0.1705, Accuracy: 94.33%, Test Loss: 0.3148, Test Accuracy: 88.77%\n",
      "Epoch [143/250], Loss: 0.1698, Accuracy: 94.31%, Test Loss: 0.3149, Test Accuracy: 88.96%\n",
      "Epoch [144/250], Loss: 0.1688, Accuracy: 94.35%, Test Loss: 0.3149, Test Accuracy: 88.74%\n",
      "Epoch [145/250], Loss: 0.1688, Accuracy: 94.34%, Test Loss: 0.3168, Test Accuracy: 88.87%\n",
      "Epoch [146/250], Loss: 0.1681, Accuracy: 94.44%, Test Loss: 0.3171, Test Accuracy: 88.86%\n",
      "Epoch [147/250], Loss: 0.1673, Accuracy: 94.38%, Test Loss: 0.3154, Test Accuracy: 88.83%\n",
      "Epoch [148/250], Loss: 0.1666, Accuracy: 94.44%, Test Loss: 0.3166, Test Accuracy: 88.84%\n",
      "Epoch [149/250], Loss: 0.1652, Accuracy: 94.53%, Test Loss: 0.3157, Test Accuracy: 89.03%\n",
      "Epoch [150/250], Loss: 0.1651, Accuracy: 94.48%, Test Loss: 0.3147, Test Accuracy: 88.84%\n",
      "Epoch [151/250], Loss: 0.1638, Accuracy: 94.60%, Test Loss: 0.3158, Test Accuracy: 88.92%\n",
      "Epoch [152/250], Loss: 0.1634, Accuracy: 94.59%, Test Loss: 0.3150, Test Accuracy: 88.99%\n",
      "Epoch [153/250], Loss: 0.1633, Accuracy: 94.60%, Test Loss: 0.3180, Test Accuracy: 88.96%\n",
      "Epoch [154/250], Loss: 0.1623, Accuracy: 94.61%, Test Loss: 0.3141, Test Accuracy: 88.89%\n",
      "Epoch [155/250], Loss: 0.1608, Accuracy: 94.71%, Test Loss: 0.3144, Test Accuracy: 88.88%\n",
      "Epoch [156/250], Loss: 0.1605, Accuracy: 94.77%, Test Loss: 0.3185, Test Accuracy: 88.87%\n",
      "Epoch [157/250], Loss: 0.1602, Accuracy: 94.73%, Test Loss: 0.3160, Test Accuracy: 88.84%\n",
      "Epoch [158/250], Loss: 0.1593, Accuracy: 94.68%, Test Loss: 0.3160, Test Accuracy: 88.85%\n",
      "Epoch [159/250], Loss: 0.1586, Accuracy: 94.76%, Test Loss: 0.3151, Test Accuracy: 88.82%\n",
      "Epoch [160/250], Loss: 0.1577, Accuracy: 94.81%, Test Loss: 0.3149, Test Accuracy: 89.01%\n",
      "Epoch [161/250], Loss: 0.1568, Accuracy: 94.81%, Test Loss: 0.3165, Test Accuracy: 89.01%\n",
      "Epoch [162/250], Loss: 0.1557, Accuracy: 94.86%, Test Loss: 0.3156, Test Accuracy: 88.93%\n",
      "Epoch [163/250], Loss: 0.1563, Accuracy: 94.88%, Test Loss: 0.3148, Test Accuracy: 89.00%\n",
      "Epoch [164/250], Loss: 0.1548, Accuracy: 94.91%, Test Loss: 0.3172, Test Accuracy: 88.80%\n",
      "Epoch [165/250], Loss: 0.1557, Accuracy: 94.89%, Test Loss: 0.3182, Test Accuracy: 88.87%\n",
      "Epoch [166/250], Loss: 0.1539, Accuracy: 94.95%, Test Loss: 0.3176, Test Accuracy: 88.87%\n",
      "Epoch [167/250], Loss: 0.1531, Accuracy: 95.06%, Test Loss: 0.3188, Test Accuracy: 88.91%\n",
      "Epoch [168/250], Loss: 0.1531, Accuracy: 95.00%, Test Loss: 0.3171, Test Accuracy: 88.98%\n",
      "Epoch [169/250], Loss: 0.1527, Accuracy: 95.03%, Test Loss: 0.3190, Test Accuracy: 88.82%\n",
      "Epoch [170/250], Loss: 0.1515, Accuracy: 95.10%, Test Loss: 0.3195, Test Accuracy: 88.93%\n",
      "Epoch [171/250], Loss: 0.1507, Accuracy: 95.08%, Test Loss: 0.3163, Test Accuracy: 88.76%\n",
      "Epoch [172/250], Loss: 0.1504, Accuracy: 95.14%, Test Loss: 0.3162, Test Accuracy: 88.87%\n",
      "Epoch [173/250], Loss: 0.1491, Accuracy: 95.18%, Test Loss: 0.3156, Test Accuracy: 89.09%\n",
      "Epoch [174/250], Loss: 0.1480, Accuracy: 95.22%, Test Loss: 0.3157, Test Accuracy: 88.99%\n",
      "Epoch [175/250], Loss: 0.1476, Accuracy: 95.21%, Test Loss: 0.3188, Test Accuracy: 88.99%\n",
      "Epoch [176/250], Loss: 0.1477, Accuracy: 95.19%, Test Loss: 0.3174, Test Accuracy: 88.94%\n",
      "Epoch [177/250], Loss: 0.1472, Accuracy: 95.20%, Test Loss: 0.3153, Test Accuracy: 89.02%\n",
      "Epoch [178/250], Loss: 0.1459, Accuracy: 95.26%, Test Loss: 0.3156, Test Accuracy: 88.87%\n",
      "Epoch [179/250], Loss: 0.1452, Accuracy: 95.31%, Test Loss: 0.3180, Test Accuracy: 89.04%\n",
      "Epoch [180/250], Loss: 0.1450, Accuracy: 95.33%, Test Loss: 0.3161, Test Accuracy: 89.06%\n",
      "Epoch [181/250], Loss: 0.1438, Accuracy: 95.43%, Test Loss: 0.3171, Test Accuracy: 89.11%\n",
      "Epoch [182/250], Loss: 0.1436, Accuracy: 95.39%, Test Loss: 0.3181, Test Accuracy: 88.99%\n",
      "Epoch [183/250], Loss: 0.1423, Accuracy: 95.39%, Test Loss: 0.3162, Test Accuracy: 88.97%\n",
      "Epoch [184/250], Loss: 0.1414, Accuracy: 95.52%, Test Loss: 0.3164, Test Accuracy: 89.00%\n",
      "Epoch [185/250], Loss: 0.1415, Accuracy: 95.50%, Test Loss: 0.3168, Test Accuracy: 89.01%\n",
      "Epoch [186/250], Loss: 0.1406, Accuracy: 95.52%, Test Loss: 0.3178, Test Accuracy: 89.08%\n",
      "Epoch [187/250], Loss: 0.1406, Accuracy: 95.55%, Test Loss: 0.3169, Test Accuracy: 89.11%\n",
      "Epoch [188/250], Loss: 0.1399, Accuracy: 95.51%, Test Loss: 0.3190, Test Accuracy: 88.96%\n",
      "Epoch [189/250], Loss: 0.1396, Accuracy: 95.57%, Test Loss: 0.3181, Test Accuracy: 88.92%\n",
      "Epoch [190/250], Loss: 0.1391, Accuracy: 95.54%, Test Loss: 0.3181, Test Accuracy: 89.03%\n",
      "Epoch [191/250], Loss: 0.1383, Accuracy: 95.60%, Test Loss: 0.3190, Test Accuracy: 88.82%\n",
      "Epoch [192/250], Loss: 0.1380, Accuracy: 95.55%, Test Loss: 0.3175, Test Accuracy: 89.10%\n",
      "Epoch [193/250], Loss: 0.1361, Accuracy: 95.69%, Test Loss: 0.3173, Test Accuracy: 88.85%\n",
      "Epoch [194/250], Loss: 0.1367, Accuracy: 95.70%, Test Loss: 0.3176, Test Accuracy: 89.07%\n",
      "Epoch [195/250], Loss: 0.1352, Accuracy: 95.71%, Test Loss: 0.3202, Test Accuracy: 88.98%\n",
      "Epoch [196/250], Loss: 0.1353, Accuracy: 95.72%, Test Loss: 0.3181, Test Accuracy: 88.83%\n",
      "Epoch [197/250], Loss: 0.1344, Accuracy: 95.80%, Test Loss: 0.3183, Test Accuracy: 88.99%\n",
      "Epoch [198/250], Loss: 0.1339, Accuracy: 95.79%, Test Loss: 0.3182, Test Accuracy: 89.11%\n",
      "Epoch [199/250], Loss: 0.1331, Accuracy: 95.82%, Test Loss: 0.3181, Test Accuracy: 89.09%\n",
      "Epoch [200/250], Loss: 0.1329, Accuracy: 95.78%, Test Loss: 0.3171, Test Accuracy: 88.97%\n",
      "Epoch [201/250], Loss: 0.1316, Accuracy: 95.92%, Test Loss: 0.3195, Test Accuracy: 89.04%\n",
      "Epoch [202/250], Loss: 0.1318, Accuracy: 95.88%, Test Loss: 0.3201, Test Accuracy: 89.09%\n",
      "Epoch [203/250], Loss: 0.1320, Accuracy: 95.85%, Test Loss: 0.3179, Test Accuracy: 89.12%\n",
      "Epoch [204/250], Loss: 0.1300, Accuracy: 95.95%, Test Loss: 0.3196, Test Accuracy: 88.98%\n",
      "Epoch [205/250], Loss: 0.1305, Accuracy: 95.97%, Test Loss: 0.3191, Test Accuracy: 88.83%\n",
      "Epoch [206/250], Loss: 0.1296, Accuracy: 95.94%, Test Loss: 0.3200, Test Accuracy: 89.11%\n",
      "Epoch [207/250], Loss: 0.1290, Accuracy: 95.93%, Test Loss: 0.3183, Test Accuracy: 89.15%\n",
      "Epoch [208/250], Loss: 0.1280, Accuracy: 96.01%, Test Loss: 0.3190, Test Accuracy: 89.16%\n",
      "Epoch [209/250], Loss: 0.1282, Accuracy: 96.07%, Test Loss: 0.3204, Test Accuracy: 88.99%\n",
      "Epoch [210/250], Loss: 0.1288, Accuracy: 95.98%, Test Loss: 0.3202, Test Accuracy: 88.99%\n",
      "Epoch [211/250], Loss: 0.1276, Accuracy: 95.98%, Test Loss: 0.3203, Test Accuracy: 88.95%\n",
      "Epoch [212/250], Loss: 0.1264, Accuracy: 96.08%, Test Loss: 0.3199, Test Accuracy: 89.00%\n",
      "Epoch [213/250], Loss: 0.1262, Accuracy: 96.12%, Test Loss: 0.3221, Test Accuracy: 89.01%\n",
      "Epoch [214/250], Loss: 0.1255, Accuracy: 96.12%, Test Loss: 0.3215, Test Accuracy: 88.89%\n",
      "Epoch [215/250], Loss: 0.1252, Accuracy: 96.13%, Test Loss: 0.3218, Test Accuracy: 89.07%\n",
      "Epoch [216/250], Loss: 0.1242, Accuracy: 96.19%, Test Loss: 0.3211, Test Accuracy: 89.15%\n",
      "Epoch [217/250], Loss: 0.1240, Accuracy: 96.14%, Test Loss: 0.3233, Test Accuracy: 89.09%\n",
      "Epoch [218/250], Loss: 0.1240, Accuracy: 96.15%, Test Loss: 0.3205, Test Accuracy: 89.04%\n",
      "Epoch [219/250], Loss: 0.1224, Accuracy: 96.31%, Test Loss: 0.3217, Test Accuracy: 88.91%\n",
      "Epoch [220/250], Loss: 0.1219, Accuracy: 96.34%, Test Loss: 0.3208, Test Accuracy: 89.18%\n",
      "Epoch [221/250], Loss: 0.1213, Accuracy: 96.30%, Test Loss: 0.3215, Test Accuracy: 89.04%\n",
      "Epoch [222/250], Loss: 0.1206, Accuracy: 96.38%, Test Loss: 0.3228, Test Accuracy: 88.94%\n",
      "Epoch [223/250], Loss: 0.1207, Accuracy: 96.29%, Test Loss: 0.3240, Test Accuracy: 89.05%\n",
      "Epoch [224/250], Loss: 0.1203, Accuracy: 96.30%, Test Loss: 0.3222, Test Accuracy: 89.06%\n",
      "Epoch [225/250], Loss: 0.1196, Accuracy: 96.35%, Test Loss: 0.3224, Test Accuracy: 88.94%\n",
      "Epoch [226/250], Loss: 0.1190, Accuracy: 96.40%, Test Loss: 0.3239, Test Accuracy: 88.86%\n",
      "Epoch [227/250], Loss: 0.1194, Accuracy: 96.37%, Test Loss: 0.3250, Test Accuracy: 89.05%\n",
      "Epoch [228/250], Loss: 0.1183, Accuracy: 96.44%, Test Loss: 0.3224, Test Accuracy: 89.03%\n",
      "Epoch [229/250], Loss: 0.1176, Accuracy: 96.43%, Test Loss: 0.3229, Test Accuracy: 88.90%\n",
      "Epoch [230/250], Loss: 0.1167, Accuracy: 96.56%, Test Loss: 0.3250, Test Accuracy: 89.07%\n",
      "Epoch [231/250], Loss: 0.1163, Accuracy: 96.51%, Test Loss: 0.3226, Test Accuracy: 89.01%\n",
      "Epoch [232/250], Loss: 0.1163, Accuracy: 96.56%, Test Loss: 0.3234, Test Accuracy: 89.11%\n",
      "Epoch [233/250], Loss: 0.1153, Accuracy: 96.54%, Test Loss: 0.3236, Test Accuracy: 89.29%\n",
      "Epoch [234/250], Loss: 0.1153, Accuracy: 96.54%, Test Loss: 0.3243, Test Accuracy: 89.01%\n",
      "Epoch [235/250], Loss: 0.1149, Accuracy: 96.54%, Test Loss: 0.3240, Test Accuracy: 89.04%\n",
      "Epoch [236/250], Loss: 0.1142, Accuracy: 96.63%, Test Loss: 0.3234, Test Accuracy: 89.01%\n",
      "Epoch [237/250], Loss: 0.1143, Accuracy: 96.58%, Test Loss: 0.3234, Test Accuracy: 89.17%\n",
      "Epoch [238/250], Loss: 0.1132, Accuracy: 96.63%, Test Loss: 0.3248, Test Accuracy: 89.12%\n",
      "Epoch [239/250], Loss: 0.1128, Accuracy: 96.64%, Test Loss: 0.3271, Test Accuracy: 89.04%\n",
      "Epoch [240/250], Loss: 0.1122, Accuracy: 96.72%, Test Loss: 0.3247, Test Accuracy: 89.02%\n",
      "Epoch [241/250], Loss: 0.1117, Accuracy: 96.69%, Test Loss: 0.3233, Test Accuracy: 89.12%\n",
      "Epoch [242/250], Loss: 0.1111, Accuracy: 96.70%, Test Loss: 0.3258, Test Accuracy: 89.07%\n",
      "Epoch [243/250], Loss: 0.1110, Accuracy: 96.70%, Test Loss: 0.3248, Test Accuracy: 89.15%\n",
      "Epoch [244/250], Loss: 0.1095, Accuracy: 96.80%, Test Loss: 0.3255, Test Accuracy: 89.08%\n",
      "Epoch [245/250], Loss: 0.1095, Accuracy: 96.76%, Test Loss: 0.3257, Test Accuracy: 89.08%\n",
      "Epoch [246/250], Loss: 0.1091, Accuracy: 96.78%, Test Loss: 0.3265, Test Accuracy: 88.99%\n",
      "Epoch [247/250], Loss: 0.1089, Accuracy: 96.76%, Test Loss: 0.3267, Test Accuracy: 89.18%\n",
      "Epoch [248/250], Loss: 0.1076, Accuracy: 96.85%, Test Loss: 0.3263, Test Accuracy: 89.12%\n",
      "Epoch [249/250], Loss: 0.1074, Accuracy: 96.86%, Test Loss: 0.3271, Test Accuracy: 89.03%\n",
      "Epoch [250/250], Loss: 0.1080, Accuracy: 96.81%, Test Loss: 0.3277, Test Accuracy: 89.23%\n"
     ]
    }
   ],
   "source": [
    "for epoch in range(max_epoch):\n",
    "  model.train()                                             # train model\n",
    "  running_loss = 0.0\n",
    "  running_correct = 0\n",
    "  total = 0\n",
    "\n",
    "  for i, (inputs, labels) in enumerate(trainloader, 0):\n",
    "    inputs, labels = inputs.to(device), labels.to(device)   # transfer batches of images and labels to GPU\n",
    "\n",
    "    optimizer.zero_grad()                                   # Pytorch retain old gradients, so set gradients of all to 0\n",
    "\n",
    "    outputs = model(inputs)\n",
    "    loss = criterion(outputs, labels)                       # Calculate loss\n",
    "    running_loss += loss.item()                             # Cumulative loss value\n",
    "\n",
    "    _, predicted = torch.max(outputs.data, 1)               \n",
    "    total += labels.size(0)\n",
    "    running_correct += (predicted == labels).sum().item()\n",
    "\n",
    "    loss.backward()                                         # Calculate gradient based on loss\n",
    "    optimizer.step()                                        # Update model weights based on calculated gradient\n",
    "\n",
    "  epoch_accuracy = 100* running_correct/total               # Calculate epoch_accuracy in current epoch\n",
    "  epoch_loss = running_loss / (i+1)                         # Calculate epoch_loss in current epoch\n",
    "\n",
    "  test_loss, test_accuracy = evaluate(model, testloader, criterion) # Calculate test_loss and test_accuracy\n",
    "  #print\n",
    "  print(f\"Epoch [{epoch + 1}/{max_epoch}], Loss: {epoch_loss:.4f}, Accuracy: {epoch_accuracy:.2f}%, Test Loss: {test_loss:.4f}, Test Accuracy: {test_accuracy:.2f}%\")\n",
    "\n",
    "  # append for plot\n",
    "  train_losses.append(epoch_loss)\n",
    "  train_accuracies.append(epoch_accuracy)\n",
    "  test_losses.append(test_loss)\n",
    "  test_accuracies.append(test_accuracy)"
   ]
  },
  {
   "cell_type": "code",
   "execution_count": 9,
   "metadata": {
    "colab": {
     "base_uri": "https://localhost:8080/",
     "height": 448
    },
    "executionInfo": {
     "elapsed": 222,
     "status": "ok",
     "timestamp": 1743226641532,
     "user": {
      "displayName": "Huy Nguyen",
      "userId": "01774398028565786625"
     },
     "user_tz": -420
    },
    "id": "ut45qz1gNW1r",
    "outputId": "5bb43014-a9b8-4548-8cdc-a3e10d914b7d"
   },
   "outputs": [
    {
     "data": {
      "text/plain": [
       "<matplotlib.legend.Legend at 0x7d87dc76fa50>"
      ]
     },
     "execution_count": 9,
     "metadata": {},
     "output_type": "execute_result"
    },
    {
     "data": {
      "image/png": "[encoded data removed]",
      "text/plain": [
       "<Figure size 640x480 with 1 Axes>"
      ]
     },
     "metadata": {},
     "output_type": "display_data"
    }
   ],
   "source": [
    "import matplotlib.pyplot as plt\n",
    "\n",
    "plt.plot(train_losses, label='train_losses')\n",
    "plt.plot(test_losses, label='test_losses')\n",
    "plt.legend()"
   ]
  },
  {
   "cell_type": "code",
   "execution_count": 10,
   "metadata": {
    "colab": {
     "base_uri": "https://localhost:8080/",
     "height": 448
    },
    "executionInfo": {
     "elapsed": 147,
     "status": "ok",
     "timestamp": 1743226715893,
     "user": {
      "displayName": "Huy Nguyen",
      "userId": "01774398028565786625"
     },
     "user_tz": -420
    },
    "id": "ih9chGZBZ5pY",
    "outputId": "fe98ce9d-4cea-4091-a24a-cf94703ed440"
   },
   "outputs": [
    {
     "data": {
      "text/plain": [
       "<matplotlib.legend.Legend at 0x7d87dea95f50>"
      ]
     },
     "execution_count": 10,
     "metadata": {},
     "output_type": "execute_result"
    },
    {
     "data": {
      "image/png": "[encoded data removed]",
      "text/plain": [
       "<Figure size 640x480 with 1 Axes>"
      ]
     },
     "metadata": {},
     "output_type": "display_data"
    }
   ],
   "source": [
    "plt.plot(train_accuracies, label='train_accuracy')\n",
    "plt.plot(test_accuracies, label='test_accuracy')\n",
    "plt.legend()"
   ]
  },
  {
   "cell_type": "code",
   "execution_count": null,
   "metadata": {
    "id": "9AIvg5wEaL0R"
   },
   "outputs": [],
   "source": []
  }
 ],
 "metadata": {
  "colab": {
   "authorship_tag": "ABX9TyOLrdyK9WlsY0uQ96+ytpfQ",
   "mount_file_id": "1ckT4n_LmoKUFjasbdITFMjjXgD-LAnw1",
   "provenance": []
  },
  "kernelspec": {
   "display_name": "Python 3",
   "name": "python3"
  },
  "language_info": {
   "name": "python"
  }
 },
 "nbformat": 4,
 "nbformat_minor": 0
}
